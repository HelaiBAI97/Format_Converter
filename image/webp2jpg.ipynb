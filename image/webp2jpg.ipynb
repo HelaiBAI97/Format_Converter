{
 "cells": [
  {
   "cell_type": "code",
   "execution_count": null,
   "metadata": {},
   "outputs": [],
   "source": [
    "from PIL import Image\n",
    "\n",
    "def save_image(input_name, output_name = None, delete = False):\n",
    "    im = Image.open(input_name)\n",
    "    if im.mode == \"RGBA\":\n",
    "        im.load()  # required for png.split()\n",
    "        im = im.convert('RGB')\n",
    "        \n",
    "    if not output_name:\n",
    "        output_name = input_name.replace('webp', 'jpg')\n",
    "    im.save('{}'.format(output_name), 'JPEG')\n",
    "    if delete:\n",
    "        os.remove(input_name)"
   ]
  },
  {
   "cell_type": "code",
   "execution_count": null,
   "metadata": {},
   "outputs": [],
   "source": [
    "import os\n",
    "\n",
    "path_dir = './unconverted'\n",
    "for file_name in os.listdir(path_dir):\n",
    "    if file_name[0] != '.' and file_name.endswith('.webp'):\n",
    "        save_image(path_dir + '/' + file_name, delete=True)"
   ]
  }
 ],
 "metadata": {
  "kernelspec": {
   "display_name": "Python 3",
   "language": "python",
   "name": "python3"
  },
  "language_info": {
   "codemirror_mode": {
    "name": "ipython",
    "version": 3
   },
   "file_extension": ".py",
   "mimetype": "text/x-python",
   "name": "python",
   "nbconvert_exporter": "python",
   "pygments_lexer": "ipython3",
   "version": "3.7.7"
  }
 },
 "nbformat": 4,
 "nbformat_minor": 2
}
